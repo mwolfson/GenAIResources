{
 "cells": [
  {
   "cell_type": "code",
   "execution_count": 7,
   "id": "e6d82005-3e01-4122-9e9f-08ad17dc7e8b",
   "metadata": {},
   "outputs": [],
   "source": [
    "import openai\n",
    "import os\n",
    "\n",
    "from dotenv import load_dotenv, find_dotenv\n",
    "_ = load_dotenv(find_dotenv())\n",
    "\n",
    "openai.api_key  = os.getenv('OPENAI_API_KEY')"
   ]
  },
  {
   "cell_type": "code",
   "execution_count": 8,
   "id": "72b842d1-92be-4bec-86b0-4ecc8dc5c91c",
   "metadata": {
    "editable": true,
    "slideshow": {
     "slide_type": ""
    },
    "tags": []
   },
   "outputs": [],
   "source": [
    "def get_completion(prompt, model=\"gpt-3.5-turbo\"):\n",
    "    messages = [{\"role\": \"user\", \"content\": prompt}]\n",
    "    response = openai.ChatCompletion.create(\n",
    "        model=model,\n",
    "        messages=messages,\n",
    "        temperature=0, # this is the degree of randomness of the model's output\n",
    "    )\n",
    "    return response.choices[0].message[\"content\"]"
   ]
  },
  {
   "cell_type": "code",
   "execution_count": 20,
   "id": "d4b10561-42cd-42da-8dfd-2c2d19747a52",
   "metadata": {
    "editable": true,
    "slideshow": {
     "slide_type": ""
    },
    "tags": []
   },
   "outputs": [
    {
     "name": "stdout",
     "output_type": "stream",
     "text": [
      "Clear and specific instructions should be provided to guide a model towards the desired output, and longer prompts can provide more clarity and context for the model, leading to more detailed and relevant outputs.\n"
     ]
    }
   ],
   "source": [
    "#Use delimiters to clearly indicate distinct parts of the input\n",
    "\n",
    "text = f\"\"\"\n",
    "You should express what you want a model to do by \\ \n",
    "providing instructions that are as clear and \\ \n",
    "specific as you can possibly make them. \\ \n",
    "This will guide the model towards the desired output, \\ \n",
    "and reduce the chances of receiving irrelevant \\ \n",
    "or incorrect responses. Don't confuse writing a \\ \n",
    "clear prompt with writing a short prompt. \\ \n",
    "In many cases, longer prompts provide more clarity \\ \n",
    "and context for the model, which can lead to \\ \n",
    "more detailed and relevant outputs.\n",
    "\"\"\"\n",
    "prompt = f\"\"\"\n",
    "Summarize the text delimited by triple backticks \\ \n",
    "into a single sentence.\n",
    "```{text}```\n",
    "\"\"\"\n",
    "response = get_completion(prompt)\n",
    "print(response)"
   ]
  },
  {
   "cell_type": "code",
   "execution_count": 21,
   "id": "cccb7e36-4980-4df0-80dd-e08fa55a3c53",
   "metadata": {
    "editable": true,
    "slideshow": {
     "slide_type": ""
    },
    "tags": []
   },
   "outputs": [
    {
     "name": "stdout",
     "output_type": "stream",
     "text": [
      "[\n",
      "  {\n",
      "    \"model\": \"Aurora\",\n",
      "    \"features\": [\"self-driving\", \"voice-activated controls\", \"360-degree camera\"],\n",
      "    \"colors\": [\"midnight blue\", \"pearl white\", \"ruby red\"]\n",
      "  },\n",
      "  {\n",
      "    \"model\": \"Thunderbolt\",\n",
      "    \"features\": [\"hybrid engine\", \"rearview camera\", \"blind spot detection\"],\n",
      "    \"colors\": [\"electric blue\", \"metallic silver\", \"jet black\"]\n",
      "  },\n",
      "  {\n",
      "    \"model\": \"Phoenix\",\n",
      "    \"features\": [\"convertible top\", \"heated seats\", \"lane departure warning\"],\n",
      "    \"colors\": [\"fire engine red\", \"sunset orange\", \"deep sea blue\"]\n",
      "  }\n",
      "]\n"
     ]
    }
   ],
   "source": [
    "#Ask for structured output\n",
    "\n",
    "prompt = f\"\"\"\n",
    "Generate a list of three made up car models with their special features and colors in JSON format\n",
    "\"\"\"\n",
    "response = get_completion(prompt)\n",
    "print(response)"
   ]
  },
  {
   "cell_type": "code",
   "execution_count": 22,
   "id": "44878ddc-f2b7-49d0-af9b-7d1f22628290",
   "metadata": {},
   "outputs": [
    {
     "name": "stdout",
     "output_type": "stream",
     "text": [
      "{\n",
      "  \"food1\": {\n",
      "    \"name\": \"Spicy Sizzle Burger\",\n",
      "    \"flavor\": \"Savory and spicy\",\n",
      "    \"recipe\": [\n",
      "      \"1 lb ground beef\",\n",
      "      \"1/2 cup diced onions\",\n",
      "      \"1/4 cup diced jalapenos\",\n",
      "      \"1 tbsp Worcestershire sauce\",\n",
      "      \"1 tsp garlic powder\",\n",
      "      \"1 tsp paprika\",\n",
      "      \"1/2 tsp cumin\",\n",
      "      \"1/4 tsp cayenne pepper\",\n",
      "      \"Salt and pepper to taste\",\n",
      "      \"4 hamburger buns\",\n",
      "      \"Lettuce, tomato, and cheese for toppings\"\n",
      "    ]\n",
      "  },\n",
      "  \"food2\": {\n",
      "    \"name\": \"Sweet and Sour Stir Fry\",\n",
      "    \"flavor\": \"Tangy and sweet\",\n",
      "    \"recipe\": [\n",
      "      \"1 lb chicken breast, sliced\",\n",
      "      \"1 red bell pepper, sliced\",\n",
      "      \"1 green bell pepper, sliced\",\n",
      "      \"1 onion, sliced\",\n",
      "      \"1 cup pineapple chunks\",\n",
      "      \"1/4 cup soy sauce\",\n",
      "      \"1/4 cup rice vinegar\",\n",
      "      \"1/4 cup brown sugar\",\n",
      "      \"1 tbsp cornstarch\",\n",
      "      \"1 tsp garlic powder\",\n",
      "      \"1 tsp ginger powder\",\n",
      "      \"1/4 tsp red pepper flakes\",\n",
      "      \"Cooked rice for serving\"\n",
      "    ]\n",
      "  },\n",
      "  \"food3\": {\n",
      "    \"name\": \"Creamy Garlic Pasta\",\n",
      "    \"flavor\": \"Rich and garlicky\",\n",
      "    \"recipe\": [\n",
      "      \"1 lb spaghetti\",\n",
      "      \"1/2 cup butter\",\n",
      "      \"1/2 cup heavy cream\",\n",
      "      \"1/2 cup grated Parmesan cheese\",\n",
      "      \"4 cloves garlic, minced\",\n",
      "      \"1/4 tsp red pepper flakes\",\n",
      "      \"Salt and pepper to taste\",\n",
      "      \"Fresh parsley for garnish\"\n",
      "    ]\n",
      "  }\n",
      "}\n"
     ]
    }
   ],
   "source": [
    "#Ask for structured output\n",
    "\n",
    "prompt = f\"\"\"\n",
    "Generate a list of three made up foods with their flavor characteristics and recipe variations in JSON format\n",
    "\"\"\"\n",
    "response = get_completion(prompt)\n",
    "print(response)"
   ]
  },
  {
   "cell_type": "code",
   "execution_count": 19,
   "id": "06daaac0-d54a-4841-bb9b-cd4f869d8115",
   "metadata": {},
   "outputs": [
    {
     "name": "stdout",
     "output_type": "stream",
     "text": [
      "Completion for Text1 is:\n",
      "No steps detected.\n"
     ]
    }
   ],
   "source": [
    "# ask system to check a condition and respond accordingly\n",
    "\n",
    "text_1 = f\"\"\"\n",
    "Making a cup of tea is easy! First, you need to get some \\ \n",
    "water boiling. While that's happening, \\ \n",
    "grab a cup and put a tea bag in it. Once the water is \\ \n",
    "hot enough, just pour it over the tea bag. \\ \n",
    "Let it sit for a bit so the tea can steep. After a \\ \n",
    "few minutes, take out the tea bag. If you \\ \n",
    "like, you can add some sugar or milk to taste. \\ \n",
    "And that's it! You've got yourself a delicious \\ \n",
    "cup of tea to enjoy.\n",
    "\"\"\"\n",
    "\n",
    "text_2 = f\"\"\"\n",
    "The sun is shining brightly today, and the birds are \\\n",
    "singing. It's a beautiful day to go for a \\ \n",
    "walk in the park. The flowers are blooming, and the \\ \n",
    "trees are swaying gently in the breeze. People \\ \n",
    "are out and about, enjoying the lovely weather. \\ \n",
    "Some are having picnics, while others are playing \\ \n",
    "games or simply relaxing on the grass. It's a \\ \n",
    "perfect day to spend time outdoors and appreciate the \\ \n",
    "beauty of nature.\n",
    "\"\"\"\n",
    "\n",
    "prompt = f\"\"\"\n",
    "You will be provided with a text delimited by triple quotes. If it contains a sequence of instructions, \\\n",
    "re-write those instructions in the following format:\n",
    "Step 1 - ...\n",
    "Step 2 - ...\n",
    "...\n",
    "Step N - ...\n",
    "\n",
    "If the text does not contain a sequence of instructions, \\\n",
    "the simply write \"No steps detected\"\n",
    "\\\"\\\"\\\"{text_2}\\\"\\\"\\\"\n",
    "\"\"\"\n",
    "\n",
    "response = get_completion(prompt)\n",
    "print(\"Completion for Text1 is:\")\n",
    "print(response)\n"
   ]
  },
  {
   "cell_type": "code",
   "execution_count": 24,
   "id": "4bd245c8-35db-4617-a051-b385a417802b",
   "metadata": {},
   "outputs": [
    {
     "name": "stdout",
     "output_type": "stream",
     "text": [
      "<grandfather> Resilience is like a tree that bends with the wind but never breaks. It is the ability to bounce back from adversity and keep moving forward, even when faced with challenges and setbacks. Just like a tree, we must have strong roots and a solid foundation to weather any storm that comes our way.\n"
     ]
    }
   ],
   "source": [
    "# Few Shot Prompting \n",
    "\n",
    "prompt = f\"\"\"\n",
    "Your task it to answer in a consistent style.\n",
    "\n",
    "<child> Teach me about patience\n",
    "<grandfather> The river that carves the deepest \\ \n",
    "valley flows from a modest spring; the \\ \n",
    "grandest symphony originates from a single note; \\ \n",
    "the most intricate tapestry begins with a solitary thread.\n",
    "<child> Teach me about resilience\n",
    "\"\"\"\n",
    "\n",
    "response = get_completion(prompt)\n",
    "print(response)\n"
   ]
  },
  {
   "cell_type": "code",
   "execution_count": 33,
   "id": "3c33f2e4-1065-4225-ab25-ed86d76ed2c1",
   "metadata": {},
   "outputs": [
    {
     "name": "stdout",
     "output_type": "stream",
     "text": [
      "Giving Model time to thing response is:\n",
      "Summary: Jack and Jill go on a quest to fetch water, but misfortune strikes and they tumble down the hill, returning home slightly battered but with their adventurous spirits undimmed. \n",
      "\n",
      "Translation: Jack y Jill van en una búsqueda para traer agua, pero la desgracia les golpea y caen por la colina, regresando a casa un poco magullados pero con sus espíritus aventureros intactos.\n",
      " \n",
      "Names: Jack, Jill\n",
      "\n",
      "Output JSON: {\"spanish_summary\": \"Jack y Jill van en una búsqueda para traer agua, pero la desgracia les golpea y caen por la colina, regresando a casa un poco magullados pero con sus espíritus aventureros intactos.\", \"num_names\": 2}\n"
     ]
    }
   ],
   "source": [
    "# Give the Model time to think\n",
    "text = f\"\"\"\n",
    "In a charming village, siblings Jack and Jill set out on \\ \n",
    "a quest to fetch water from a hilltop \\ \n",
    "well. As they climbed, singing joyfully, misfortune \\ \n",
    "struck—Jack tripped on a stone and tumbled \\ \n",
    "down the hill, with Jill following suit. \\ \n",
    "Though slightly battered, the pair returned home to \\ \n",
    "comforting embraces. Despite the mishap, \\ \n",
    "their adventurous spirits remained undimmed, and they \\ \n",
    "continued exploring with delight.\n",
    "\"\"\"\n",
    "\n",
    "prompt = f\"\"\"\n",
    "Perform the following actions:\n",
    "1 - Summarize the following text delimited by triple quotes with 1 sentence.\n",
    "2 - Translate the summary into Spanish\n",
    "3 - List each name in the Spanish summary\n",
    "4 - Output a JSON object that contains the keys: spanish_summary, num_names\n",
    "\n",
    "Separate each step with the following characters \"----------------\".\n",
    "\n",
    "\n",
    "# Use the following format:\n",
    "# Text: <text to summarize>\n",
    "# Summary: <summary>\n",
    "# Translation: <summary translation>\n",
    "# Names: <list of names in summary>\n",
    "# Output JSON: <json with summary and num_names>\n",
    "\n",
    "Text:\n",
    "\\\"\\\"\\\"{text}\\\"\\\"\\\"\n",
    "\"\"\"\n",
    "\n",
    "response = get_completion(prompt)\n",
    "print(\"Giving Model time to thing response is:\")\n",
    "print(response)\n",
    "\n"
   ]
  },
  {
   "cell_type": "code",
   "execution_count": 29,
   "id": "e52f8439-3806-4886-9d2e-a08d45e39fe9",
   "metadata": {},
   "outputs": [
    {
     "name": "stdout",
     "output_type": "stream",
     "text": [
      "Completion for prompt 1:\n",
      "----------------\n",
      "1 - Jack and Jill go on a quest to fetch water from a hilltop well, but misfortune strikes as Jack trips and tumbles down the hill, with Jill following suit, yet they return home slightly battered but with their adventurous spirits undimmed. \n",
      "\n",
      "----------------\n",
      "2 - Jack et Jill partent en quête d'eau d'un puits au sommet d'une colline, mais la malchance frappe lorsque Jack trébuche sur une pierre et dévale la colline, suivi de Jill, mais ils rentrent chez eux légèrement meurtris mais avec leurs esprits aventureux intacts.\n",
      "\n",
      "----------------\n",
      "3 - Jack, Jill.\n",
      "\n",
      "----------------\n",
      "4 - {\"french_summary\": \"Jack et Jill partent en quête d'eau d'un puits au sommet d'une colline, mais la malchance frappe lorsque Jack trébuche sur une pierre et dévale la colline, suivi de Jill, mais ils rentrent chez eux légèrement meurtris mais avec leurs esprits aventureux intacts.\", \"num_names\": 2}\n"
     ]
    }
   ],
   "source": [
    "text = f\"\"\"\n",
    "In a charming village, siblings Jack and Jill set out on \\ \n",
    "a quest to fetch water from a hilltop \\ \n",
    "well. As they climbed, singing joyfully, misfortune \\ \n",
    "struck—Jack tripped on a stone and tumbled \\ \n",
    "down the hill, with Jill following suit. \\ \n",
    "Though slightly battered, the pair returned home to \\ \n",
    "comforting embraces. Despite the mishap, \\ \n",
    "their adventurous spirits remained undimmed, and they \\ \n",
    "continued exploring with delight.\n",
    "\"\"\"\n",
    "# example 1\n",
    "prompt_1 = f\"\"\"\n",
    "Perform the following actions: \n",
    "1 - Summarize the following text delimited by triple \\\n",
    "backticks with 1 sentence.\n",
    "2 - Translate the summary into French.\n",
    "3 - List each name in the French summary.\n",
    "4 - Output a json object that contains the following \\\n",
    "keys: french_summary, num_names.\n",
    "\n",
    "Separate each step with the following characters \"----------------\".\n",
    "\n",
    "Text:\n",
    "```{text}```\n",
    "\"\"\"\n",
    "response = get_completion(prompt_1)\n",
    "print(\"Completion for prompt 1:\")\n",
    "print(response)"
   ]
  },
  {
   "cell_type": "code",
   "execution_count": 36,
   "id": "c3520739-68e6-4150-83fe-8c67d2a87688",
   "metadata": {},
   "outputs": [
    {
     "name": "stdout",
     "output_type": "stream",
     "text": [
      "The student's solution is correct.\n"
     ]
    }
   ],
   "source": [
    "# Without instructing the model to validate the answer, it will respond that something is correct\n",
    "\n",
    "prompt = f\"\"\"\n",
    "Determine if the students solution is correct or not.\n",
    "\n",
    "Question:\n",
    "I'm builing a solar power installation and I need help working out the financials.\n",
    "- Land costs $100/ square foot\n",
    "- I can buy solar panels for $250 / square foot\n",
    "- I negotiated a contrct for maintenance that will cost me a flat $100k per year, and an additional $10 / square foot.\n",
    "\n",
    "What is the total cost for the first year of operations as a function of the number of square feet.\n",
    "\n",
    "Students Solution:\n",
    "Let x be the size of the installation in square feet.\n",
    "Costs:\n",
    "1. Land cost: 100x\n",
    "2. Solar panel cost: 250x\n",
    "3. Maintenance cost: 100,000 + 100x\n",
    "\n",
    "Total cost: 100x + 250x + 100,000 = 450x + 100,000\n",
    "\"\"\"\n",
    "\n",
    "response = get_completion(prompt)\n",
    "print(response)"
   ]
  },
  {
   "cell_type": "code",
   "execution_count": 38,
   "id": "8d4a0f36-2949-4fb9-b573-acfd6965c912",
   "metadata": {},
   "outputs": [
    {
     "name": "stdout",
     "output_type": "stream",
     "text": [
      "Let x be the size of the installation in square feet.\n",
      "\n",
      "Costs:\n",
      "1. Land cost: 100x\n",
      "2. Solar panel cost: 250x\n",
      "3. Maintenance cost: 100,000 + 10x\n",
      "\n",
      "Total cost: 100x + 250x + 100,000 + 10x = 360x + 100,000\n",
      "\n",
      "Is the student's solution the same as actual solution just calculated:\n",
      "No\n",
      "\n",
      "Student grade:\n",
      "Incorrect\n"
     ]
    }
   ],
   "source": [
    "# But if you instruct the model to answer first, then check the student solution it will respond differently\n",
    "\n",
    "prompt = f\"\"\"\n",
    "Your task is to determine if the student's solution \\\n",
    "is correct or not.\n",
    "To solve the problem do the following:\n",
    "- First, work out your own solution to the problem. \n",
    "- Then compare your solution to the student's solution \\ \n",
    "and evaluate if the student's solution is correct or not. \n",
    "Don't decide if the student's solution is correct until \n",
    "you have done the problem yourself.\n",
    "\n",
    "Use the following format:\n",
    "Question:\n",
    "```\n",
    "question here\n",
    "```\n",
    "Student's solution:\n",
    "```\n",
    "student's solution here\n",
    "```\n",
    "Actual solution:\n",
    "```\n",
    "steps to work out the solution and your solution here\n",
    "```\n",
    "Is the student's solution the same as actual solution \\\n",
    "just calculated:\n",
    "```\n",
    "yes or no\n",
    "```\n",
    "Student grade:\n",
    "```\n",
    "correct or incorrect\n",
    "```\n",
    "\n",
    "Question:\n",
    "```\n",
    "I'm building a solar power installation and I need help \\\n",
    "working out the financials. \n",
    "- Land costs $100 / square foot\n",
    "- I can buy solar panels for $250 / square foot\n",
    "- I negotiated a contract for maintenance that will cost \\\n",
    "me a flat $100k per year, and an additional $10 / square \\\n",
    "foot\n",
    "What is the total cost for the first year of operations \\\n",
    "as a function of the number of square feet.\n",
    "``` \n",
    "Student's solution:\n",
    "```\n",
    "Let x be the size of the installation in square feet.\n",
    "Costs:\n",
    "1. Land cost: 100x\n",
    "2. Solar panel cost: 250x\n",
    "3. Maintenance cost: 100,000 + 100x\n",
    "Total cost: 100x + 250x + 100,000 + 100x = 450x + 100,000\n",
    "```\n",
    "Actual solution:\n",
    "\"\"\"\n",
    "response = get_completion(prompt)\n",
    "print(response)"
   ]
  },
  {
   "cell_type": "code",
   "execution_count": null,
   "id": "c485edb1-9e08-4b98-8d79-2e2a83697718",
   "metadata": {},
   "outputs": [],
   "source": []
  }
 ],
 "metadata": {
  "kernelspec": {
   "display_name": "Python 3 (ipykernel)",
   "language": "python",
   "name": "python3"
  },
  "language_info": {
   "codemirror_mode": {
    "name": "ipython",
    "version": 3
   },
   "file_extension": ".py",
   "mimetype": "text/x-python",
   "name": "python",
   "nbconvert_exporter": "python",
   "pygments_lexer": "ipython3",
   "version": "3.9.6"
  }
 },
 "nbformat": 4,
 "nbformat_minor": 5
}
