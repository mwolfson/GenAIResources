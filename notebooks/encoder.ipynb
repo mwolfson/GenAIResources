{
 "cells": [
  {
   "cell_type": "code",
   "execution_count": 1,
   "id": "da7acf64-b05d-4d45-9001-9c1a7f891853",
   "metadata": {},
   "outputs": [],
   "source": [
    "import os\n",
    "import time\n",
    "\n",
    "import numpy as np\n",
    "import tensorflow as tf"
   ]
  },
  {
   "cell_type": "code",
   "execution_count": 2,
   "id": "00eeeb88-7ff2-4722-b658-a92fe6854c0e",
   "metadata": {},
   "outputs": [
    {
     "name": "stdout",
     "output_type": "stream",
     "text": [
      "Downloading data from https://storage.googleapis.com/download.tensorflow.org/data/shakespeare.txt\n",
      "1115394/1115394 [==============================] - 0s 0us/step\n"
     ]
    }
   ],
   "source": [
    "path_to_file = tf.keras.utils.get_file(\n",
    "    \"shakespeare.txt\",\n",
    "    \"https://storage.googleapis.com/download.tensorflow.org/data/shakespeare.txt\",\n",
    ")"
   ]
  },
  {
   "cell_type": "code",
   "execution_count": 3,
   "id": "14fcbfc7-6948-459d-bb98-24963a4cb490",
   "metadata": {},
   "outputs": [
    {
     "name": "stdout",
     "output_type": "stream",
     "text": [
      "Length of text; 1115394 characters\n"
     ]
    }
   ],
   "source": [
    "text = open(path_to_file, \"rb\").read().decode(encoding=\"utf-8\")\n",
    "print(f\"Length of text; {len(text)} characters\")"
   ]
  },
  {
   "cell_type": "code",
   "execution_count": 4,
   "id": "1da1a45a-f145-47f6-b575-bc6e3a1609eb",
   "metadata": {},
   "outputs": [
    {
     "name": "stdout",
     "output_type": "stream",
     "text": [
      "First Citizen:\n",
      "Before we proceed any further, hear me speak.\n",
      "\n",
      "All:\n",
      "Speak, speak.\n",
      "\n",
      "First Citizen:\n",
      "You are all resolved rather to die than to famish?\n",
      "\n",
      "All:\n",
      "Resolved. resolved.\n",
      "\n",
      "First Citizen:\n",
      "First, you know Caius Marcius is chief enemy to the people.\n",
      "\n"
     ]
    }
   ],
   "source": [
    "print(text[:250])"
   ]
  },
  {
   "cell_type": "code",
   "execution_count": 5,
   "id": "a3ec81b9-36d6-4eb0-b78f-e9a0a440215d",
   "metadata": {},
   "outputs": [
    {
     "name": "stdout",
     "output_type": "stream",
     "text": [
      "65 unique characters\n"
     ]
    }
   ],
   "source": [
    "vocab = sorted(set(text))\n",
    "print(f\"{len(vocab)} unique characters\")"
   ]
  },
  {
   "cell_type": "code",
   "execution_count": 7,
   "id": "c588658b-8bcf-4ed2-afe4-d9194baa7388",
   "metadata": {},
   "outputs": [
    {
     "data": {
      "text/plain": [
       "<tf.RaggedTensor [[b'a', b'b', b'c', b'd', b'e', b'f', b'g'], [b'x', b'y', b'z']]>"
      ]
     },
     "execution_count": 7,
     "metadata": {},
     "output_type": "execute_result"
    }
   ],
   "source": [
    "example_texts = [\"abcdefg\", \"xyz\"]\n",
    "\n",
    "chars = tf.strings.unicode_split(example_texts, input_encoding=\"UTF-8\")\n",
    "chars"
   ]
  },
  {
   "cell_type": "code",
   "execution_count": 9,
   "id": "e859f54a-c0b2-4885-ae7a-110dcc01bf33",
   "metadata": {},
   "outputs": [],
   "source": [
    "ids_from_chars = tf.keras.layers.StringLookup(\n",
    "    vocabulary=list(vocab), mask_token=None\n",
    ")"
   ]
  },
  {
   "cell_type": "code",
   "execution_count": 12,
   "id": "643fcb5c-f6d5-4ed2-bd1b-739501549d7b",
   "metadata": {},
   "outputs": [
    {
     "data": {
      "text/plain": [
       "<tf.RaggedTensor [[40, 41, 42, 43, 44, 45, 46], [63, 64, 65]]>"
      ]
     },
     "execution_count": 12,
     "metadata": {},
     "output_type": "execute_result"
    }
   ],
   "source": [
    "ids = ids_from_chars(chars)\n",
    "ids"
   ]
  },
  {
   "cell_type": "code",
   "execution_count": 13,
   "id": "fb55c3f1-5a1f-47fa-a839-2fc1951394b6",
   "metadata": {},
   "outputs": [],
   "source": [
    "chars_from_ids = tf.keras.layers.StringLookup(\n",
    "    vocabulary=ids_from_chars.get_vocabulary(), invert=True, mask_token=None\n",
    ")"
   ]
  },
  {
   "cell_type": "code",
   "execution_count": 15,
   "id": "6c3bc3d9-667e-4479-8ec0-476dfa581d79",
   "metadata": {},
   "outputs": [
    {
     "data": {
      "text/plain": [
       "<tf.RaggedTensor [[b'a', b'b', b'c', b'd', b'e', b'f', b'g'], [b'x', b'y', b'z']]>"
      ]
     },
     "execution_count": 15,
     "metadata": {},
     "output_type": "execute_result"
    }
   ],
   "source": [
    "chars = chars_from_ids(ids)\n",
    "chars"
   ]
  },
  {
   "cell_type": "code",
   "execution_count": 16,
   "id": "903f2b47-123a-47e4-8794-2a6d16e65925",
   "metadata": {},
   "outputs": [
    {
     "data": {
      "text/plain": [
       "array([b'abcdefg', b'xyz'], dtype=object)"
      ]
     },
     "execution_count": 16,
     "metadata": {},
     "output_type": "execute_result"
    }
   ],
   "source": [
    "tf.strings.reduce_join(chars, axis=1).numpy()"
   ]
  },
  {
   "cell_type": "code",
   "execution_count": 17,
   "id": "ce3ab22d-4db7-4767-8c53-935b8f1de24e",
   "metadata": {},
   "outputs": [],
   "source": [
    "def text_from_ids(ids):\n",
    "    return tf.strings.reduce_join(chars_from_ids(ids), axis=-1)"
   ]
  },
  {
   "cell_type": "code",
   "execution_count": 18,
   "id": "6dd70818-0a6f-4893-a99d-fe6f444553ac",
   "metadata": {},
   "outputs": [
    {
     "data": {
      "text/plain": [
       "<tf.Tensor: shape=(1115394,), dtype=int64, numpy=array([19, 48, 57, ..., 46,  9,  1], dtype=int64)>"
      ]
     },
     "execution_count": 18,
     "metadata": {},
     "output_type": "execute_result"
    }
   ],
   "source": [
    "all_ids = ids_from_chars(tf.strings.unicode_split(text, \"UTF-8\"))\n",
    "all_ids\n"
   ]
  },
  {
   "cell_type": "code",
   "execution_count": 19,
   "id": "958f5b4c-65e6-42e8-b9ae-e7a547aca7b5",
   "metadata": {},
   "outputs": [],
   "source": [
    "ids_dataset = tf.data.Dataset.from_tensor_slices(all_ids)"
   ]
  },
  {
   "cell_type": "code",
   "execution_count": 22,
   "id": "b2e80875-d9dc-4e8b-9ee8-23bde1354521",
   "metadata": {},
   "outputs": [
    {
     "name": "stdout",
     "output_type": "stream",
     "text": [
      "F\n",
      "i\n",
      "r\n",
      "s\n",
      "t\n",
      " \n",
      "C\n",
      "i\n",
      "t\n",
      "i\n"
     ]
    }
   ],
   "source": [
    "for ids in ids_dataset.take(10):\n",
    "    print(chars_from_ids(ids).numpy().decode(\"UTF-8\"))"
   ]
  },
  {
   "cell_type": "code",
   "execution_count": 26,
   "id": "67ed3f8f-ddbc-4f31-ace1-1594c90ad86d",
   "metadata": {},
   "outputs": [],
   "source": [
    "seq_length = 100\n",
    "examples_per_epoch = len(text) // (seq_length + 1)"
   ]
  },
  {
   "cell_type": "code",
   "execution_count": 28,
   "id": "face491c-29b8-438d-a3e7-80d6c6bd6fc9",
   "metadata": {},
   "outputs": [
    {
     "name": "stdout",
     "output_type": "stream",
     "text": [
      "[b'F' b'i' b'r' b's' b't' b' ' b'C' b'i' b't' b'i' b'z' b'e' b'n' b':'\n",
      " b'\\n' b'B' b'e' b'f' b'o' b'r' b'e' b' ' b'w' b'e' b' ' b'p' b'r' b'o'\n",
      " b'c' b'e' b'e' b'd' b' ' b'a' b'n' b'y' b' ' b'f' b'u' b'r' b't' b'h'\n",
      " b'e' b'r' b',' b' ' b'h' b'e' b'a' b'r' b' ' b'm' b'e' b' ' b's' b'p'\n",
      " b'e' b'a' b'k' b'.' b'\\n' b'\\n' b'A' b'l' b'l' b':' b'\\n' b'S' b'p' b'e'\n",
      " b'a' b'k' b',' b' ' b's' b'p' b'e' b'a' b'k' b'.' b'\\n' b'\\n' b'F' b'i'\n",
      " b'r' b's' b't' b' ' b'C' b'i' b't' b'i' b'z' b'e' b'n' b':' b'\\n' b'Y'\n",
      " b'o' b'u' b' ']\n"
     ]
    }
   ],
   "source": [
    "sequences = ids_dataset.batch(seq_length + 1, drop_remainder=True)\n",
    "\n",
    "for seq in sequences.take(1):\n",
    "    print(chars_from_ids(seq).numpy())"
   ]
  },
  {
   "cell_type": "code",
   "execution_count": 31,
   "id": "a9a507b1-c88a-42aa-9a55-8107fe4264c5",
   "metadata": {},
   "outputs": [],
   "source": [
    "def split_input_target(sequence):\n",
    "    input_text = sequence[:-1]\n",
    "    target_text = sequence[1:]\n",
    "    return input_text, target_text"
   ]
  },
  {
   "cell_type": "code",
   "execution_count": 32,
   "id": "c4844e83-73f6-4ff2-8d8b-2957b4138d0c",
   "metadata": {},
   "outputs": [
    {
     "data": {
      "text/plain": [
       "(['T', 'e', 'n', 's', 'o', 'r', 'f', 'l', 'o'],\n",
       " ['e', 'n', 's', 'o', 'r', 'f', 'l', 'o', 'w'])"
      ]
     },
     "execution_count": 32,
     "metadata": {},
     "output_type": "execute_result"
    }
   ],
   "source": [
    "split_input_target(list(\"Tensorflow\"))"
   ]
  },
  {
   "cell_type": "code",
   "execution_count": 33,
   "id": "a4133f50-083f-433b-9879-ce2a5873cd69",
   "metadata": {},
   "outputs": [],
   "source": [
    "dataset = sequences.map(split_input_target)"
   ]
  },
  {
   "cell_type": "code",
   "execution_count": 47,
   "id": "b551cefd-0255-447c-9ba8-532c0802a32c",
   "metadata": {},
   "outputs": [
    {
     "name": "stdout",
     "output_type": "stream",
     "text": [
      "Input : [b\" the boar did raze his helm;\\nBut I disdain'd it, and did scorn to fly:\\nThree times to-day my foot-cl\"\n",
      " b'arkness breaks within the east.\\nIn brief,--for so the season bids us be,--\\nPrepare thy battle early '\n",
      " b'sighs and weeps:\\nWe took this mattock and this spade from him,\\nAs he was coming from this churchyard'\n",
      " b'the world either malice or\\nmatter to alter it. You have an unspeakable\\ncomfort of your young prince '\n",
      " b'e to my soul,\\nMy soul the father; and these two beget\\nA generation of still-breeding thoughts,\\nAnd t'\n",
      " b' honour; and so, I pray, go with us.\\n\\nVIRGILIA:\\nGive me excuse, good madam; I will obey you in every'\n",
      " b'hich then blew bitterly against our faces,\\nAwaked the sleeping rheum, and so by chance\\nDid grace our'\n",
      " b'cost ten thousand lives this day.\\n3 KING HENRY VI\\n\\nWARWICK:\\nForspent with toil, as runners with a ra'\n",
      " b\"in place.\\n\\nPost:\\n'Tell him,' quoth she, 'my mourning weeds are done,\\nAnd I am ready to put armour on\"\n",
      " b'to pity him, lest thy pity prove\\nA serpent that will sting thee to the heart.\\n\\nHENRY BOLINGBROKE:\\nO '\n",
      " b'end the babe,\\nI know not what I shall incur to pass it,\\nHaving no warrant.\\n\\nPAULINA:\\nYou need not fe'\n",
      " b've me strength! and strength shall help afford.\\nFarewell, dear father!\\n\\nCAPULET:\\nSo many guests invi'\n",
      " b\"lace of peace?\\nRomeo! O, pale! Who else? what, Paris too?\\nAnd steep'd in blood? Ah, what an unkind h\"\n",
      " b', and for a season after\\nCould not believe but that I was in hell,\\nSuch terrible impression made the'\n",
      " b'et\\nit was against our will.\\n\\nCOMINIUS:\\nYe re goodly things, you voices!\\n\\nMENENIUS:\\nYou have made\\nGoo'\n",
      " b\"face be the\\nworst thing about him, how could Master Froth do the\\nconstable's wife any harm? I would \"\n",
      " b'ET:\\nCome, son, away; we may not linger thus.\\n\\nKING HENRY VI:\\nPoor queen! how love to me and to her s'\n",
      " b\"re: all this uttered\\nWith gentle breath, calm look, knees humbly bow'd,\\nCould not take truce with th\"\n",
      " b\"you,\\nUnless you were of gentler, milder mould.\\n\\nKATHARINA:\\nI'faith, sir, you shall never need to fea\"\n",
      " b' and seat is due to me.\\n\\nGLOUCESTER:\\nWhat! threat you me with telling of the king?\\nTell him, and spa'\n",
      " b'EN ELIZABETH:\\nAs much to you, good sister! Whither away?\\n\\nLADY ANNE:\\nNo farther than the Tower; and,'\n",
      " b'om mine have drawn salt tears,\\nShamed their aspect with store of childish drops:\\nThese eyes that nev'\n",
      " b'ove!\\n\\nEDWARD:\\nDazzle mine eyes, or do I see three suns?\\n\\nRICHARD:\\nThree glorious suns, each one a pe'\n",
      " b'breathed your curse against yourself.\\n\\nQUEEN MARGARET:\\nPoor painted queen, vain flourish of my fortu'\n",
      " b'again proclaim us King of England.\\nYou are the fount that makes small brooks to flow:\\nNow stops thy '\n",
      " b\"ckless senators, have you thus\\nGiven Hydra here to choose an officer,\\nThat with his peremptory 'shal\"\n",
      " b\"am rudely stamp'd, and want love's majesty\\nTo strut before a wanton ambling nymph;\\nI, that am curtai\"\n",
      " b\"\\n\\nKING RICHARD III:\\nStanley, he is your wife's son well, look to it.\\n\\nBUCKINGHAM:\\nMy lord, I claim y\"\n",
      " b\"that I'll give my cousin.\\n\\nYORK:\\nA greater gift! O, that's the sword to it.\\n\\nGLOUCESTER:\\nA gentle co\"\n",
      " b\"nswer'd. Dost thou hear, Camillo,\\nI conjure thee, by all the parts of man\\nWhich honour does acknowle\"\n",
      " b'NTIO:\\nAy, with my heart\\nAnd punish them to your height of pleasure.\\nThou foolish friar, and thou per'\n",
      " b'oodness, that the dissolution of it must cure it:\\nnovelty is only in request; and it is as dangerous'\n",
      " b'he would incline to the people, there was\\nnever a worthier man.\\nHere he comes, and in the gown of hu'\n",
      " b\" speed, is gone.\\n\\nLEONTES:\\nHow! gone!\\n\\nServant:\\nIs dead.\\n\\nLEONTES:\\nApollo's angry; and the heavens t\"\n",
      " b'or though mine enemy thou hast ever been,\\nHigh sparks of honour in thee have I seen.\\n\\nEXTON:\\nGreat k'\n",
      " b'ows than you\\nHow I have ever loved the life removed\\nAnd held in idle price to haunt assemblies\\nWhere'\n",
      " b\"\\nHereditary ours.\\n\\nHERMIONE:\\nBy this we gather\\nYou have tripp'd since.\\n\\nPOLIXENES:\\nO my most sacred \"\n",
      " b' VINCENTIO:\\nI never heard the absent duke much detected for\\nwomen; he was not inclined that way.\\n\\nLU'\n",
      " b'amation made, that who finds Edward\\nShall have a high reward, and he his life?\\n\\nGLOUCESTER:\\nIt is: a'\n",
      " b\" perfume itself\\nTo whom they go to. What will you read to her?\\n\\nLUCENTIO:\\nWhate'er I read to her, I'\"\n",
      " b\"t, good Captain Blunt. Come gentlemen,\\nLet us consult upon to-morrow's business\\nIn to our tent; the \"\n",
      " b' meddle with thy\\nmistress. Thou pratest, and pratest; serve with thy\\ntrencher, hence!\\n\\nAUFIDIUS:\\nWhe'\n",
      " b\" see this morning's face,\\nAnd doth it give me such a sight as this?\\n\\nLADY CAPULET:\\nAccursed, unhappy\"\n",
      " b\"re\\nAll in Bohemia's well; this satisfaction\\nThe by-gone day proclaim'd: say this to him,\\nHe's beat f\"\n",
      " b'o,\\nAnd own no other function: each your doing,\\nSo singular in each particular,\\nCrowns what you are d'\n",
      " b'le, vile submission!\\nAlla stoccata carries it away.\\nTybalt, you rat-catcher, will you walk?\\n\\nTYBALT:'\n",
      " b\"\\n\\nNurse:\\nTybalt is gone, and Romeo banished;\\nRomeo that kill'd him, he is banished.\\n\\nJULIET:\\nO God! \"\n",
      " b'es of both your bloods,\\nCurrents that spring from one most gracious head,\\nAnd by the buried hand of '\n",
      " b'have power in me as in a kinsman.\\n\\nYORK:\\nI pray you, uncle, give me this dagger.\\n\\nGLOUCESTER:\\nMy dag'\n",
      " b\"er's womb:\\nAnd, for I should not deal in her soft laws,\\nShe did corrupt frail nature with some bribe\"\n",
      " b'ny my defects,\\nAs I had rather hide me from my greatness,\\nBeing a bark to brook no mighty sea,\\nThan '\n",
      " b'ough uneven ways\\nDraws out our miles, and makes them wearisome,\\nAnd yet your fair discourse hath bee'\n",
      " b' is on earth, my faith in heaven;\\nHow shall that faith return again to earth,\\nUnless that husband se'\n",
      " b'e king, commands the contrary.\\n\\nKING RICHARD II:\\nThe devil take Henry of Lancaster and thee!\\nPatienc'\n",
      " b'Plantagenet, Duke of York, be king,\\nAnd bashful Henry deposed, whose cowardice\\nHath made us by-words'\n",
      " b'scene I needs must act alone.\\nCome, vial.\\nWhat if this mixture do not work at all?\\nShall I be marrie'\n",
      " b'banished:\\nFlies may do this, but I from this must fly:\\nThey are free men, but I am banished.\\nAnd say'\n",
      " b', a virgin-violator;\\nIs it not strange and strange?\\n\\nDUKE VINCENTIO:\\nNay, it is ten times strange.\\n\\n'\n",
      " b\"ar you\\nsee, there is such unity in the proofs. The mantle\\nof Queen Hermione's, her jewel about the n\"\n",
      " b\" all obedience.\\n\\nSLY:\\nI know it well. What must I call her?\\n\\nLord:\\nMadam.\\n\\nSLY:\\nAl'ce madam, or Joan\"\n",
      " b'd none so. Camillo,--\\nAs you are certainly a gentleman, thereto\\nClerk-like experienced, which no les'\n",
      " b\"m Henry's heart,\\nTo make a shambles of the parliament-house!\\nCousin of Exeter, frowns, words and thr\"\n",
      " b\"id,\\nOn Lammas-eve at night shall she be fourteen;\\nThat shall she, marry; I remember it well.\\n'Tis si\"\n",
      " b\"ithal how blest this land would be\\nIn this your cousin's death.\\n\\nDUKE OF AUMERLE:\\nPrinces and noble \"]\n",
      "Target : b'irst Citizen:\\nBefore we proceed any further, hear me speak.\\n\\nAll:\\nSpeak, speak.\\n\\nFirst Citizen:\\nYou '\n"
     ]
    }
   ],
   "source": [
    "for input_example, target_example_batch in dataset.take(1):\n",
    "    print(\"Input :\", text_from_ids(input_example).numpy())\n",
    "    print(\"Target :\", text_from_ids(target_example).numpy())"
   ]
  },
  {
   "cell_type": "code",
   "execution_count": 48,
   "id": "d95cb9f0-46f2-43ca-bf90-623b23529840",
   "metadata": {},
   "outputs": [
    {
     "data": {
      "text/plain": [
       "<_PrefetchDataset element_spec=(TensorSpec(shape=(64, 64, 100), dtype=tf.int64, name=None), TensorSpec(shape=(64, 64, 100), dtype=tf.int64, name=None))>"
      ]
     },
     "execution_count": 48,
     "metadata": {},
     "output_type": "execute_result"
    }
   ],
   "source": [
    "BATCH_SIZE=64\n",
    "\n",
    "BUFFER_SIZE=10000\n",
    "\n",
    "dataset = (\n",
    "    dataset.shuffle(BUFFER_SIZE)\n",
    "    .batch(BATCH_SIZE, drop_remainder=True)\n",
    "    .prefetch(tf.data.experimental.AUTOTUNE)\n",
    ")\n",
    "\n",
    "dataset"
   ]
  },
  {
   "cell_type": "code",
   "execution_count": 49,
   "id": "8ced4b77-d9d9-41f3-bdad-a5554acaf717",
   "metadata": {},
   "outputs": [],
   "source": [
    "vocab_size = len(vocab)\n",
    "\n",
    "embedding_dim = 256\n",
    "\n",
    "rnn_units = 1024"
   ]
  },
  {
   "cell_type": "code",
   "execution_count": 50,
   "id": "4423ff72-1336-4ea3-9ef8-0a8172aee909",
   "metadata": {},
   "outputs": [],
   "source": [
    "class MyModel(tf.keras.Model):\n",
    "    def __init__(self, vocab_size, embedding_dim, rnn_units):\n",
    "        super().__init__(self)\n",
    "        # TODO - Create an embedding layer\n",
    "        self.embedding = tf.keras.layers.Embedding(vocab_size, embedding_dim)\n",
    "        # TODO - Create a GRU layer\n",
    "        self.gru = tf.keras.layers.GRU(\n",
    "            rnn_units, return_sequences=True, return_state=True\n",
    "        )\n",
    "        # TODO - Finally connect it with a dense layer\n",
    "        self.dense = tf.keras.layers.Dense(vocab_size)\n",
    "\n",
    "    def call(self, inputs, states=None, return_state=False, training=False):\n",
    "        x = self.embedding(inputs, training=training)\n",
    "        # since we are training a text generation model,\n",
    "        # we use the previous state, in training. If there is no state,\n",
    "        # then we initialize the state\n",
    "        if states is None:\n",
    "            states = self.gru.get_initial_state(x)\n",
    "        x, states = self.gru(x, initial_state=states, training=training)\n",
    "        x = self.dense(x, training=training)\n",
    "\n",
    "        if return_state:\n",
    "            return x, states\n",
    "        else:\n",
    "            return x"
   ]
  },
  {
   "cell_type": "code",
   "execution_count": 51,
   "id": "4b60eebf-98e9-4279-bbf0-638941877475",
   "metadata": {},
   "outputs": [],
   "source": [
    "model = MyModel(\n",
    "    vocab_size=len(ids_from_chars.get_vocabulary()),\n",
    "    embedding_dim=embedding_dim,\n",
    "    rnn_units=rnn_units,\n",
    ")"
   ]
  },
  {
   "cell_type": "code",
   "execution_count": 52,
   "id": "faed3872-ae49-4dda-bb77-56c9084abaff",
   "metadata": {},
   "outputs": [],
   "source": [
    "loss = tf.losses.SparseCategoricalCrossentropy(from_logits=True)"
   ]
  },
  {
   "cell_type": "code",
   "execution_count": 54,
   "id": "e5aa91b7-a0f7-41f2-a9a1-a34d63d33e84",
   "metadata": {},
   "outputs": [
    {
     "ename": "NameError",
     "evalue": "name 'example_batch_predictions' is not defined",
     "output_type": "error",
     "traceback": [
      "\u001b[1;31m---------------------------------------------------------------------------\u001b[0m",
      "\u001b[1;31mNameError\u001b[0m                                 Traceback (most recent call last)",
      "Cell \u001b[1;32mIn[54], line 1\u001b[0m\n\u001b[1;32m----> 1\u001b[0m example_batch_mean_loss \u001b[38;5;241m=\u001b[39m loss(target_example_batch, \u001b[43mexample_batch_predictions\u001b[49m)\n\u001b[0;32m      2\u001b[0m \u001b[38;5;28mprint\u001b[39m(\n\u001b[0;32m      3\u001b[0m     \u001b[38;5;124m\"\u001b[39m\u001b[38;5;124mPrediction shape: \u001b[39m\u001b[38;5;124m\"\u001b[39m,\n\u001b[0;32m      4\u001b[0m     example_batch_predictions\u001b[38;5;241m.\u001b[39mshape,\n\u001b[0;32m      5\u001b[0m     \u001b[38;5;124m\"\u001b[39m\u001b[38;5;124m # (batch_size, sequence_length, vocab_size)\u001b[39m\u001b[38;5;124m\"\u001b[39m,\n\u001b[0;32m      6\u001b[0m )\n\u001b[0;32m      7\u001b[0m \u001b[38;5;28mprint\u001b[39m(\u001b[38;5;124m\"\u001b[39m\u001b[38;5;124mMean loss:        \u001b[39m\u001b[38;5;124m\"\u001b[39m, example_batch_mean_loss)\n",
      "\u001b[1;31mNameError\u001b[0m: name 'example_batch_predictions' is not defined"
     ]
    }
   ],
   "source": [
    "example_batch_mean_loss = loss(target_example_batch, example_batch_predictions)\n",
    "print(\n",
    "    \"Prediction shape: \",\n",
    "    example_batch_predictions.shape,\n",
    "    \" # (batch_size, sequence_length, vocab_size)\",\n",
    ")\n",
    "print(\"Mean loss:        \", example_batch_mean_loss)"
   ]
  },
  {
   "cell_type": "code",
   "execution_count": null,
   "id": "ce2bab64-b2c4-4657-97bb-e32f9bcd294d",
   "metadata": {},
   "outputs": [],
   "source": [
    "tf.exp(example_batch_mean_loss).numpy()"
   ]
  },
  {
   "cell_type": "code",
   "execution_count": null,
   "id": "a5b9311a-1dad-41ab-a307-577839263fc4",
   "metadata": {},
   "outputs": [],
   "source": [
    "model.compile(optimizer=\"adam\", loss=loss)"
   ]
  }
 ],
 "metadata": {
  "kernelspec": {
   "display_name": "Python 3 (ipykernel)",
   "language": "python",
   "name": "python3"
  },
  "language_info": {
   "codemirror_mode": {
    "name": "ipython",
    "version": 3
   },
   "file_extension": ".py",
   "mimetype": "text/x-python",
   "name": "python",
   "nbconvert_exporter": "python",
   "pygments_lexer": "ipython3",
   "version": "3.11.4"
  }
 },
 "nbformat": 4,
 "nbformat_minor": 5
}
