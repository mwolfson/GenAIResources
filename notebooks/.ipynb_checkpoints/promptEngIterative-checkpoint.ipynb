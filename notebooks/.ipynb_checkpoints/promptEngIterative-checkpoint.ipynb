{
 "cells": [
  {
   "cell_type": "code",
   "execution_count": 9,
   "id": "984ed34e-eed3-4165-b489-8773f297850f",
   "metadata": {},
   "outputs": [],
   "source": [
    "import openai\n",
    "import os\n",
    "\n",
    "from dotenv import load_dotenv, find_dotenv\n",
    "_ = load_dotenv(find_dotenv()) # read local .env file\n",
    "\n",
    "openai.api_key  = os.getenv('OPENAI_API_KEY')"
   ]
  },
  {
   "cell_type": "code",
   "execution_count": 10,
   "id": "50abe033-30e7-49ab-9340-82b972807e2c",
   "metadata": {},
   "outputs": [],
   "source": [
    "def get_completion(prompt, model=\"gpt-3.5-turbo\"):\n",
    "    messages = [{\"role\": \"user\", \"content\": prompt}]\n",
    "    response = openai.ChatCompletion.create(\n",
    "        model=model,\n",
    "        messages=messages,\n",
    "        temperature=0, # this is the degree of randomness of the model's output\n",
    "    )\n",
    "    return response.choices[0].message[\"content\"]"
   ]
  },
  {
   "cell_type": "code",
   "execution_count": 11,
   "id": "ab14cea6-197f-4d00-bd68-6194297b2b64",
   "metadata": {},
   "outputs": [],
   "source": [
    "fact_sheet_chair = f\"\"\"\n",
    "OVERVIEW\n",
    "- Part of a beautiful family of mid-century inspired office furniture, \n",
    "including filing cabinets, desks, bookcases, meeting tables, and more.\n",
    "- Several options of shell color and base finishes.\n",
    "- Available with plastic back and front upholstery (SWC-100) \n",
    "or full upholstery (SWC-110) in 10 fabric and 6 leather options.\n",
    "- Base finish options are: stainless steel, matte black, \n",
    "gloss white, or chrome.\n",
    "- Chair is available with or without armrests.\n",
    "- Suitable for home or business settings.\n",
    "- Qualified for contract use.\n",
    "\n",
    "CONSTRUCTION\n",
    "- 5-wheel plastic coated aluminum base.\n",
    "- Pneumatic chair adjust for easy raise/lower action.\n",
    "\n",
    "DIMENSIONS\n",
    "- WIDTH 53 CM | 20.87”\n",
    "- DEPTH 51 CM | 20.08”\n",
    "- HEIGHT 80 CM | 31.50”\n",
    "- SEAT HEIGHT 44 CM | 17.32”\n",
    "- SEAT DEPTH 41 CM | 16.14”\n",
    "\n",
    "OPTIONS\n",
    "- Soft or hard-floor caster options.\n",
    "- Two choices of seat foam densities: \n",
    " medium (1.8 lb/ft3) or high (2.8 lb/ft3)\n",
    "- Armless or 8 position PU armrests \n",
    "\n",
    "MATERIALS\n",
    "SHELL BASE GLIDER\n",
    "- Cast Aluminum with modified nylon PA6/PA66 coating.\n",
    "- Shell thickness: 10 mm.\n",
    "SEAT\n",
    "- HD36 foam\n",
    "\n",
    "COUNTRY OF ORIGIN\n",
    "- Italy\n",
    "\"\"\""
   ]
  },
  {
   "cell_type": "code",
   "execution_count": 17,
   "id": "11d3f205-1f0c-4af2-8296-227d10935c5f",
   "metadata": {},
   "outputs": [
    {
     "name": "stdout",
     "output_type": "stream",
     "text": [
      "Introducing the mid-century inspired office chair, perfect for home or business settings. Available in a range of shell colors and base finishes, with or without armrests, and upholstered in 10 fabric and 6 leather options. The chair features a 5-wheel plastic coated aluminum base and pneumatic chair adjust for easy raise/lower action.\n"
     ]
    }
   ],
   "source": [
    "prompt = f\"\"\"\n",
    "Your task is to help a marketing team create a description for a retail website of a product based on a technical fact sheet.\n",
    "\n",
    "Write a product description based on the information provided in hte technical specification delimited by triple backticks.\n",
    "\n",
    "\n",
    "Use at most 50 words\n",
    "# Use at most 280 characters\n",
    "# Use at most 3 sentences\n",
    "Technical specifications: ```{fact_sheet_chair}```\n",
    "\"\"\"\n",
    "\n",
    "response = get_completion(prompt)\n",
    "print(response)"
   ]
  },
  {
   "cell_type": "code",
   "execution_count": 19,
   "id": "0b43985d-9d55-4a9a-81d8-06c3b6236b55",
   "metadata": {},
   "outputs": [
    {
     "name": "stdout",
     "output_type": "stream",
     "text": [
      "Introducing our mid-century inspired office chair, perfect for home or business settings. With a range of shell colors and base finishes, and the option of plastic or full upholstery in fabric or leather, this chair is both stylish and versatile. Constructed with a 5-wheel plastic coated aluminum base and pneumatic chair adjust, it's also practical and comfortable. Available with or without armrests and suitable for contract use. Product ID: SWC-100, SWC-110.\n"
     ]
    }
   ],
   "source": [
    "prompt = f\"\"\"\n",
    "Your task is to help a marketing team create a description for a retail website of a product based on a technical fact sheet.\n",
    "\n",
    "Write a product description based on the information provided in hte technical specification delimited by triple backticks.\n",
    "\n",
    "This description is intended for furniture retailers, so should be technical in nature and focus on the materials the product is contructed from.\n",
    "\n",
    "At the end of the description include every Product ID included in the technical specification.\n",
    "Use at most 50 words\n",
    "\n",
    "Technical specifications: ```{fact_sheet_chair}```\n",
    "\"\"\"\n",
    "\n",
    "response = get_completion(prompt)\n",
    "print(response)"
   ]
  },
  {
   "cell_type": "code",
   "execution_count": 20,
   "id": "01dac498-6e7d-4dc0-97b9-b309cd3f3bf2",
   "metadata": {},
   "outputs": [
    {
     "name": "stdout",
     "output_type": "stream",
     "text": [
      "<div>\n",
      "<p>The mid-century inspired office chair is part of a beautiful family of furniture that includes filing cabinets, desks, bookcases, meeting tables, and more. The chair is available in several shell color and base finishes, with plastic or full upholstery in fabric or leather. The chair is constructed with a 5-wheel plastic coated aluminum base and a pneumatic chair adjust for easy raise/lower action. Suitable for home or business settings and qualified for contract use. Product ID: SWC-100, SWC-110.</p>\n",
      "\n",
      "<table>\n",
      "  <caption>Product Dimensions</caption>\n",
      "  <tr>\n",
      "    <th>Width</th>\n",
      "    <td>20.87 inches</td>\n",
      "  </tr>\n",
      "  <tr>\n",
      "    <th>Depth</th>\n",
      "    <td>20.08 inches</td>\n",
      "  </tr>\n",
      "  <tr>\n",
      "    <th>Height</th>\n",
      "    <td>31.50 inches</td>\n",
      "  </tr>\n",
      "  <tr>\n",
      "    <th>Seat Height</th>\n",
      "    <td>17.32 inches</td>\n",
      "  </tr>\n",
      "  <tr>\n",
      "    <th>Seat Depth</th>\n",
      "    <td>16.14 inches</td>\n",
      "  </tr>\n",
      "</table>\n",
      "</div>\n"
     ]
    }
   ],
   "source": [
    "prompt = f\"\"\"\n",
    "Your task is to help a marketing team create a description for a retail website of a product based on a technical fact sheet.\n",
    "\n",
    "Write a product description based on the information provided in hte technical specification delimited by triple backticks.\n",
    "\n",
    "This description is intended for furniture retailers, so should be technical in nature and focus on the materials the product is contructed from.\n",
    "\n",
    "At the end of the description include every Product ID included in the technical specification.\n",
    "\n",
    "After the description include a table that gives the product dimensions. The table should have two columns.\n",
    "In the first column include the name of the dimension and in hte second column, include the dimension in inches only.\n",
    "\n",
    "Give the table name 'Product Dimensions'.\n",
    "\n",
    "Format everything as HTML that can be used in a website. Place the description in a <div> element.\n",
    "\n",
    "Use at most 50 words\n",
    "\n",
    "Technical specifications: ```{fact_sheet_chair}```\n",
    "\"\"\"\n",
    "\n",
    "response = get_completion(prompt)\n",
    "print(response)"
   ]
  },
  {
   "cell_type": "code",
   "execution_count": 21,
   "id": "dc81e71e-5059-4456-ae78-dbb36f0cf4dd",
   "metadata": {},
   "outputs": [],
   "source": [
    "from IPython.display import display, HTML"
   ]
  },
  {
   "cell_type": "code",
   "execution_count": 22,
   "id": "217e7202-ede5-4762-a629-09912b61d70e",
   "metadata": {},
   "outputs": [
    {
     "data": {
      "text/html": [
       "<div>\n",
       "<p>The mid-century inspired office chair is part of a beautiful family of furniture that includes filing cabinets, desks, bookcases, meeting tables, and more. The chair is available in several shell color and base finishes, with plastic or full upholstery in fabric or leather. The chair is constructed with a 5-wheel plastic coated aluminum base and a pneumatic chair adjust for easy raise/lower action. Suitable for home or business settings and qualified for contract use. Product ID: SWC-100, SWC-110.</p>\n",
       "\n",
       "<table>\n",
       "  <caption>Product Dimensions</caption>\n",
       "  <tr>\n",
       "    <th>Width</th>\n",
       "    <td>20.87 inches</td>\n",
       "  </tr>\n",
       "  <tr>\n",
       "    <th>Depth</th>\n",
       "    <td>20.08 inches</td>\n",
       "  </tr>\n",
       "  <tr>\n",
       "    <th>Height</th>\n",
       "    <td>31.50 inches</td>\n",
       "  </tr>\n",
       "  <tr>\n",
       "    <th>Seat Height</th>\n",
       "    <td>17.32 inches</td>\n",
       "  </tr>\n",
       "  <tr>\n",
       "    <th>Seat Depth</th>\n",
       "    <td>16.14 inches</td>\n",
       "  </tr>\n",
       "</table>\n",
       "</div>"
      ],
      "text/plain": [
       "<IPython.core.display.HTML object>"
      ]
     },
     "metadata": {},
     "output_type": "display_data"
    }
   ],
   "source": [
    "display(HTML(response))"
   ]
  },
  {
   "cell_type": "code",
   "execution_count": null,
   "id": "8c9244bc-df5b-41aa-a862-46a9849c036c",
   "metadata": {},
   "outputs": [],
   "source": []
  }
 ],
 "metadata": {
  "kernelspec": {
   "display_name": "Python 3 (ipykernel)",
   "language": "python",
   "name": "python3"
  },
  "language_info": {
   "codemirror_mode": {
    "name": "ipython",
    "version": 3
   },
   "file_extension": ".py",
   "mimetype": "text/x-python",
   "name": "python",
   "nbconvert_exporter": "python",
   "pygments_lexer": "ipython3",
   "version": "3.9.6"
  }
 },
 "nbformat": 4,
 "nbformat_minor": 5
}
