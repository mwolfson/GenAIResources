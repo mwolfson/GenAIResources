{
 "cells": [
  {
   "cell_type": "code",
   "execution_count": 1,
   "id": "9fa28eae-d608-483c-a40f-09b2fe58a797",
   "metadata": {},
   "outputs": [],
   "source": [
    "import openai\n",
    "import os\n",
    "\n",
    "from dotenv import load_dotenv, find_dotenv\n",
    "_ = load_dotenv(find_dotenv()) # read local .env file\n",
    "\n",
    "openai.api_key  = os.getenv('OPENAI_API_KEY')"
   ]
  },
  {
   "cell_type": "code",
   "execution_count": 2,
   "id": "9151b950-9b46-46da-8848-4ea8c423f75c",
   "metadata": {},
   "outputs": [],
   "source": [
    "def get_completion(prompt, model=\"gpt-3.5-turbo\", temperature=0): \n",
    "    messages = [{\"role\": \"user\", \"content\": prompt}]\n",
    "    response = openai.ChatCompletion.create(\n",
    "        model=model,\n",
    "        messages=messages,\n",
    "        temperature=temperature, \n",
    "    )\n",
    "    return response.choices[0].message[\"content\"]"
   ]
  },
  {
   "cell_type": "code",
   "execution_count": 3,
   "id": "e21467a5-caf6-45cd-bb7d-8d50745aed58",
   "metadata": {},
   "outputs": [],
   "source": [
    "# given the sentiment from the lesson on \"inferring\",\n",
    "# and the original customer message, customize the email\n",
    "sentiment = \"negative\"\n",
    "\n",
    "# review for a blender\n",
    "review = f\"\"\"\n",
    "So, they still had the 17 piece system on seasonal \\\n",
    "sale for around $49 in the month of November, about \\\n",
    "half off, but for some reason (call it price gouging) \\\n",
    "around the second week of December the prices all went \\\n",
    "up to about anywhere from between $70-$89 for the same \\\n",
    "system. And the 11 piece system went up around $10 or \\\n",
    "so in price also from the earlier sale price of $29. \\\n",
    "So it looks okay, but if you look at the base, the part \\\n",
    "where the blade locks into place doesn’t look as good \\\n",
    "as in previous editions from a few years ago, but I \\\n",
    "plan to be very gentle with it (example, I crush \\\n",
    "very hard items like beans, ice, rice, etc. in the \\ \n",
    "blender first then pulverize them in the serving size \\\n",
    "I want in the blender then switch to the whipping \\\n",
    "blade for a finer flour, and use the cross cutting blade \\\n",
    "first when making smoothies, then use the flat blade \\\n",
    "if I need them finer/less pulpy). Special tip when making \\\n",
    "smoothies, finely cut and freeze the fruits and \\\n",
    "vegetables (if using spinach-lightly stew soften the \\ \n",
    "spinach then freeze until ready for use-and if making \\\n",
    "sorbet, use a small to medium sized food processor) \\ \n",
    "that you plan to use that way you can avoid adding so \\\n",
    "much ice if at all-when making your smoothie. \\\n",
    "After about a year, the motor was making a funny noise. \\\n",
    "I called customer service but the warranty expired \\\n",
    "already, so I had to buy another one. FYI: The overall \\\n",
    "quality has gone done in these types of products, so \\\n",
    "they are kind of counting on brand recognition and \\\n",
    "consumer loyalty to maintain sales. Got it in about \\\n",
    "two days.\n",
    "\"\"\""
   ]
  },
  {
   "cell_type": "code",
   "execution_count": 7,
   "id": "befeb377-a3fd-4470-b746-150a877f9801",
   "metadata": {},
   "outputs": [
    {
     "name": "stdout",
     "output_type": "stream",
     "text": [
      "Dear Valued Customer,\n",
      "\n",
      "Thank you for taking the time to leave a review about our 17 piece system. We are sorry to hear that you experienced a price increase during the holiday season and that the quality of the product did not meet your expectations. We apologize for any inconvenience this may have caused.\n",
      "\n",
      "We appreciate your feedback regarding the base of the product and will take this into consideration for future improvements. We also appreciate your tips for making smoothies and will share them with our team.\n",
      "\n",
      "We understand that your motor had an issue after a year and we apologize that the warranty had already expired. If you have any further concerns or questions, please do not hesitate to reach out to our customer service team for assistance.\n",
      "\n",
      "Thank you again for your review and for choosing our product. We hope to have the opportunity to serve you better in the future.\n",
      "\n",
      "Best regards,\n",
      "\n",
      "Customer Service AI Agent\n"
     ]
    }
   ],
   "source": [
    "prompt = f\"\"\"\n",
    "You are a customer service assistant.\n",
    "Your task is to send an email reply to a valued customer.\n",
    "Given the customer email delimited by ```, \\\n",
    "Generate a reply to thank the customer for their review.  If the sentiment is positive or neutral, thank them for their review.\n",
    "If the sentiment is negative, apoligize and suggest that they can reach out to customer service.\n",
    "Make sure to use specific details from the review and include comments from the review delimited by \" in the response.\n",
    "Write in a concise and professional tone.\n",
    "Sign the email as \"Customer Service AI Agent\".\n",
    "Customer review: ```{review}```\n",
    "Review Sentiment: {sentiment}\n",
    "\"\"\"\n",
    "response = get_completion(prompt)\n",
    "print(response)"
   ]
  },
  {
   "cell_type": "code",
   "execution_count": 8,
   "id": "c157217f-78c9-49df-8764-e2933a0d06aa",
   "metadata": {},
   "outputs": [
    {
     "name": "stdout",
     "output_type": "stream",
     "text": [
      "Dear Valued Customer,\n",
      "\n",
      "Thank you for taking the time to write a review of our product. We are sorry to hear that you did not have a positive experience with our pricing and product quality.\n",
      "\n",
      "We apologize for any inconvenience caused by the price increase in December. Unfortunately, as a seasonal sale, the discounted price was only available for a limited time. We understand your disappointment and will take your feedback into consideration for future sales.\n",
      "\n",
      "We also apologize for any issues with the product quality. Our team strives to provide the best possible products, and we are sorry to hear that the motor made a funny noise and that the quality has gone down in recent years. If you experience any further issues, please do not hesitate to reach out to our customer service team for assistance.\n",
      "\n",
      "Thank you for sharing your special tips and tricks for using our product. We appreciate your loyalty and hope that you continue to enjoy using our products.\n",
      "\n",
      "Sincerely,\n",
      "\n",
      "Customer Service AI Agent\n"
     ]
    }
   ],
   "source": [
    "prompt = f\"\"\"\n",
    "You are a customer service assistant.\n",
    "Your task is to send an email reply to a valued customer.\n",
    "Given the customer email delimited by ```, \\\n",
    "Generate a reply to thank the customer for their review.  If the sentiment is positive or neutral, thank them for their review.\n",
    "If the sentiment is negative, apoligize and suggest that they can reach out to customer service.\n",
    "Make sure to use specific details from the review and include comments from the review delimited by \" in the response.\n",
    "Write in a concise and professional tone.\n",
    "Sign the email as \"Customer Service AI Agent\".\n",
    "Customer review: ```{review}```\n",
    "Review Sentiment: {sentiment}\n",
    "\"\"\"\n",
    "response = get_completion(prompt, temperature=0.7)\n",
    "print(response)"
   ]
  },
  {
   "cell_type": "code",
   "execution_count": null,
   "id": "5fd487bb-cd46-41ca-8381-baa4cb0fdc59",
   "metadata": {},
   "outputs": [],
   "source": []
  }
 ],
 "metadata": {
  "kernelspec": {
   "display_name": "Python 3 (ipykernel)",
   "language": "python",
   "name": "python3"
  },
  "language_info": {
   "codemirror_mode": {
    "name": "ipython",
    "version": 3
   },
   "file_extension": ".py",
   "mimetype": "text/x-python",
   "name": "python",
   "nbconvert_exporter": "python",
   "pygments_lexer": "ipython3",
   "version": "3.9.6"
  }
 },
 "nbformat": 4,
 "nbformat_minor": 5
}
