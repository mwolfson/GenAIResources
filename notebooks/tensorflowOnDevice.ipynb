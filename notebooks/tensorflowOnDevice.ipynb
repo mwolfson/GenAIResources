{
 "cells": [
  {
   "cell_type": "code",
   "execution_count": 3,
   "id": "9f65dc3f-debb-4326-bd00-3893d85d2d63",
   "metadata": {},
   "outputs": [
    {
     "name": "stdout",
     "output_type": "stream",
     "text": [
      "TensorFlow version: 2.12.0\n"
     ]
    }
   ],
   "source": [
    "import matplotlib.pyplot as plt\n",
    "import numpy as np\n",
    "import tensorflow as tf\n",
    "\n",
    "print(\"TensorFlow version:\", tf.__version__)"
   ]
  },
  {
   "cell_type": "code",
   "execution_count": 4,
   "id": "64984cc6-a85f-4862-9f1d-aa669b333fc6",
   "metadata": {},
   "outputs": [],
   "source": [
    "IMG_SIZE = 28\n",
    "\n",
    "class Model(tf.Module):\n",
    "\n",
    "  def __init__(self):\n",
    "    self.model = tf.keras.Sequential([\n",
    "        tf.keras.layers.Flatten(input_shape=(IMG_SIZE, IMG_SIZE), name='flatten'),\n",
    "        tf.keras.layers.Dense(128, activation='relu', name='dense_1'),\n",
    "        tf.keras.layers.Dense(10, name='dense_2')\n",
    "    ])\n",
    "\n",
    "    self.model.compile(\n",
    "        optimizer='sgd',\n",
    "        loss=tf.keras.losses.CategoricalCrossentropy(from_logits=True))\n",
    "\n",
    "  # The `train` function takes a batch of input images and labels.\n",
    "  @tf.function(input_signature=[\n",
    "      tf.TensorSpec([None, IMG_SIZE, IMG_SIZE], tf.float32),\n",
    "      tf.TensorSpec([None, 10], tf.float32),\n",
    "  ])\n",
    "  def train(self, x, y):\n",
    "    with tf.GradientTape() as tape:\n",
    "      prediction = self.model(x)\n",
    "      loss = self.model.loss(y, prediction)\n",
    "    gradients = tape.gradient(loss, self.model.trainable_variables)\n",
    "    self.model.optimizer.apply_gradients(\n",
    "        zip(gradients, self.model.trainable_variables))\n",
    "    result = {\"loss\": loss}\n",
    "    return result\n",
    "\n",
    "  @tf.function(input_signature=[\n",
    "      tf.TensorSpec([None, IMG_SIZE, IMG_SIZE], tf.float32),\n",
    "  ])\n",
    "  def infer(self, x):\n",
    "    logits = self.model(x)\n",
    "    probabilities = tf.nn.softmax(logits, axis=-1)\n",
    "    return {\n",
    "        \"output\": probabilities,\n",
    "        \"logits\": logits\n",
    "    }\n",
    "\n",
    "  @tf.function(input_signature=[tf.TensorSpec(shape=[], dtype=tf.string)])\n",
    "  def save(self, checkpoint_path):\n",
    "    tensor_names = [weight.name for weight in self.model.weights]\n",
    "    tensors_to_save = [weight.read_value() for weight in self.model.weights]\n",
    "    tf.raw_ops.Save(\n",
    "        filename=checkpoint_path, tensor_names=tensor_names,\n",
    "        data=tensors_to_save, name='save')\n",
    "    return {\n",
    "        \"checkpoint_path\": checkpoint_path\n",
    "    }\n",
    "\n",
    "  @tf.function(input_signature=[tf.TensorSpec(shape=[], dtype=tf.string)])\n",
    "  def restore(self, checkpoint_path):\n",
    "    restored_tensors = {}\n",
    "    for var in self.model.weights:\n",
    "      restored = tf.raw_ops.Restore(\n",
    "          file_pattern=checkpoint_path, tensor_name=var.name, dt=var.dtype,\n",
    "          name='restore')\n",
    "      var.assign(restored)\n",
    "      restored_tensors[var.name] = restored\n",
    "    return restored_tensors"
   ]
  },
  {
   "cell_type": "code",
   "execution_count": 18,
   "id": "e429df82-6b1d-4d28-8563-cf7112c255e0",
   "metadata": {},
   "outputs": [],
   "source": [
    "# How do I change this to my own dataset?!?!?\n",
    "fashion_mnist = tf.keras.datasets.fashion_mnist\n",
    "(train_images, train_labels), (test_images, test_labels) = fashion_mnist.load_data()"
   ]
  },
  {
   "cell_type": "code",
   "execution_count": 6,
   "id": "43025469-6040-4841-8359-400981952c69",
   "metadata": {},
   "outputs": [],
   "source": [
    "train_images = (train_images / 255.0).astype(np.float32)\n",
    "test_images = (test_images / 255.0).astype(np.float32)"
   ]
  },
  {
   "cell_type": "code",
   "execution_count": 7,
   "id": "f302ccca-79db-4651-9946-51f0b4acff1c",
   "metadata": {},
   "outputs": [],
   "source": [
    "train_labels = tf.keras.utils.to_categorical(train_labels)\n",
    "test_labels = tf.keras.utils.to_categorical(test_labels)"
   ]
  },
  {
   "cell_type": "code",
   "execution_count": 8,
   "id": "1192f75c-7f75-4299-a7c1-abecb9d08e0d",
   "metadata": {},
   "outputs": [
    {
     "name": "stdout",
     "output_type": "stream",
     "text": [
      "Finished 10 epochs\n",
      "  loss: 0.434\n",
      "Finished 20 epochs\n",
      "  loss: 0.372\n",
      "Finished 30 epochs\n",
      "  loss: 0.334\n",
      "Finished 40 epochs\n",
      "  loss: 0.310\n",
      "Finished 50 epochs\n",
      "  loss: 0.292\n",
      "Finished 60 epochs\n",
      "  loss: 0.278\n",
      "Finished 70 epochs\n",
      "  loss: 0.270\n",
      "Finished 80 epochs\n",
      "  loss: 0.261\n",
      "Finished 90 epochs\n",
      "  loss: 0.252\n",
      "Finished 100 epochs\n",
      "  loss: 0.246\n"
     ]
    },
    {
     "data": {
      "text/plain": [
       "{'checkpoint_path': <tf.Tensor: shape=(), dtype=string, numpy=b'/tmp/model.ckpt'>}"
      ]
     },
     "execution_count": 8,
     "metadata": {},
     "output_type": "execute_result"
    }
   ],
   "source": [
    "NUM_EPOCHS = 100\n",
    "BATCH_SIZE = 100\n",
    "epochs = np.arange(1, NUM_EPOCHS + 1, 1)\n",
    "losses = np.zeros([NUM_EPOCHS])\n",
    "m = Model()\n",
    "\n",
    "train_ds = tf.data.Dataset.from_tensor_slices((train_images, train_labels))\n",
    "train_ds = train_ds.batch(BATCH_SIZE)\n",
    "\n",
    "for i in range(NUM_EPOCHS):\n",
    "  for x,y in train_ds:\n",
    "    result = m.train(x, y)\n",
    "\n",
    "  losses[i] = result['loss']\n",
    "  if (i + 1) % 10 == 0:\n",
    "    print(f\"Finished {i+1} epochs\")\n",
    "    print(f\"  loss: {losses[i]:.3f}\")\n",
    "\n",
    "# Save the trained weights to a checkpoint.\n",
    "m.save('/tmp/model.ckpt')"
   ]
  },
  {
   "cell_type": "code",
   "execution_count": 9,
   "id": "8ea9aa5d-2698-48ae-a181-ab9346fc382a",
   "metadata": {},
   "outputs": [
    {
     "data": {
      "image/png": "[encoded data removed]",
      "text/plain": [
       "<Figure size 640x480 with 1 Axes>"
      ]
     },
     "metadata": {},
     "output_type": "display_data"
    }
   ],
   "source": [
    "plt.plot(epochs, losses, label='Pre-training')\n",
    "plt.ylim([0, max(plt.ylim())])\n",
    "plt.xlabel('Epoch')\n",
    "plt.ylabel('Loss [Cross Entropy]')\n",
    "plt.legend();"
   ]
  },
  {
   "cell_type": "code",
   "execution_count": 10,
   "id": "94cd05c5-365e-4a70-8171-d93e721a3f5d",
   "metadata": {},
   "outputs": [
    {
     "name": "stderr",
     "output_type": "stream",
     "text": [
      "WARNING:absl:Found untraced functions such as _update_step_xla while saving (showing 1 of 1). These functions will not be directly callable after loading.\n"
     ]
    },
    {
     "name": "stdout",
     "output_type": "stream",
     "text": [
      "INFO:tensorflow:Assets written to: saved_model\\assets\n"
     ]
    },
    {
     "name": "stderr",
     "output_type": "stream",
     "text": [
      "INFO:tensorflow:Assets written to: saved_model\\assets\n",
      "WARNING:absl:Importing a function (__inference_internal_grad_fn_181287) with ops with unsaved custom gradients. Will likely fail if a gradient is requested.\n",
      "WARNING:absl:Importing a function (__inference_internal_grad_fn_181259) with ops with unsaved custom gradients. Will likely fail if a gradient is requested.\n"
     ]
    }
   ],
   "source": [
    "SAVED_MODEL_DIR = \"saved_model\"\n",
    "\n",
    "tf.saved_model.save(\n",
    "    m,\n",
    "    SAVED_MODEL_DIR,\n",
    "    signatures={\n",
    "        'train':\n",
    "            m.train.get_concrete_function(),\n",
    "        'infer':\n",
    "            m.infer.get_concrete_function(),\n",
    "        'save':\n",
    "            m.save.get_concrete_function(),\n",
    "        'restore':\n",
    "            m.restore.get_concrete_function(),\n",
    "    })\n",
    "\n",
    "# Convert the model\n",
    "converter = tf.lite.TFLiteConverter.from_saved_model(SAVED_MODEL_DIR)\n",
    "converter.target_spec.supported_ops = [\n",
    "    tf.lite.OpsSet.TFLITE_BUILTINS,  # enable TensorFlow Lite ops.\n",
    "    tf.lite.OpsSet.SELECT_TF_OPS  # enable TensorFlow ops.\n",
    "]\n",
    "converter.experimental_enable_resource_variables = True\n",
    "tflite_model = converter.convert()"
   ]
  },
  {
   "cell_type": "code",
   "execution_count": 11,
   "id": "9f62a5ee-0070-4f92-a6f4-2e2714b6bb47",
   "metadata": {},
   "outputs": [],
   "source": [
    "interpreter = tf.lite.Interpreter(model_content=tflite_model)\n",
    "interpreter.allocate_tensors()\n",
    "\n",
    "infer = interpreter.get_signature_runner(\"infer\")"
   ]
  },
  {
   "cell_type": "code",
   "execution_count": 12,
   "id": "4979c198-3091-491a-89a6-71ad64fe3cb5",
   "metadata": {},
   "outputs": [],
   "source": [
    "logits_original = m.infer(x=train_images[:1])['logits'][0]\n",
    "logits_lite = infer(x=train_images[:1])['logits'][0]"
   ]
  },
  {
   "cell_type": "code",
   "execution_count": 13,
   "id": "9aff5c0e-c5db-44a9-b2d4-01aa97c29981",
   "metadata": {},
   "outputs": [
    {
     "data": {
      "image/png": "[encoded data removed]",
      "text/plain": [
       "<Figure size 640x480 with 1 Axes>"
      ]
     },
     "metadata": {},
     "output_type": "display_data"
    }
   ],
   "source": [
    "#@title\n",
    "def compare_logits(logits):\n",
    "  width = 0.35\n",
    "  offset = width/2\n",
    "  assert len(logits)==2\n",
    "\n",
    "  keys = list(logits.keys())\n",
    "  plt.bar(x = np.arange(len(logits[keys[0]]))-offset,\n",
    "      height=logits[keys[0]], width=0.35, label=keys[0])\n",
    "  plt.bar(x = np.arange(len(logits[keys[1]]))+offset,\n",
    "      height=logits[keys[1]], width=0.35, label=keys[1])\n",
    "  plt.legend()\n",
    "  plt.grid(True)\n",
    "  plt.ylabel('Logit')\n",
    "  plt.xlabel('ClassID')\n",
    "\n",
    "  delta = np.sum(np.abs(logits[keys[0]] - logits[keys[1]]))\n",
    "  plt.title(f\"Total difference: {delta:.3g}\")\n",
    "\n",
    "compare_logits({'Original': logits_original, 'Lite': logits_lite})"
   ]
  },
  {
   "cell_type": "code",
   "execution_count": null,
   "id": "2c825720-120d-47c8-a86d-6b5b5b413f8e",
   "metadata": {},
   "outputs": [],
   "source": [
    "train = interpreter.get_signature_runner(\"train\")\n",
    "\n",
    "NUM_EPOCHS = 50\n",
    "BATCH_SIZE = 100\n",
    "more_epochs = np.arange(epochs[-1]+1, epochs[-1] + NUM_EPOCHS + 1, 1)\n",
    "more_losses = np.zeros([NUM_EPOCHS])\n",
    "\n",
    "\n",
    "for i in range(NUM_EPOCHS):\n",
    "  for x,y in train_ds:\n",
    "    result = train(x=x, y=y)\n",
    "  more_losses[i] = result['loss']\n",
    "  if (i + 1) % 10 == 0:\n",
    "    print(f\"Finished {i+1} epochs\")\n",
    "    print(f\"  loss: {more_losses[i]:.3f}\")"
   ]
  },
  {
   "cell_type": "code",
   "execution_count": null,
   "id": "69e93f05-fdc1-40bc-a4b6-18922a9917df",
   "metadata": {},
   "outputs": [],
   "source": [
    "plt.plot(epochs, losses, label='Pre-training')\n",
    "plt.plot(more_epochs, more_losses, label='On device')\n",
    "plt.ylim([0, max(plt.ylim())])\n",
    "plt.xlabel('Epoch')\n",
    "plt.ylabel('Loss [Cross Entropy]')\n",
    "plt.legend();"
   ]
  },
  {
   "cell_type": "code",
   "execution_count": null,
   "id": "bedc3516-07cd-4918-9c9a-0f72415aeb4b",
   "metadata": {},
   "outputs": [],
   "source": [
    "save = interpreter.get_signature_runner(\"save\")\n",
    "\n",
    "save(checkpoint_path=np.array(\"/tmp/model.ckpt\", dtype=np.string_))"
   ]
  },
  {
   "cell_type": "code",
   "execution_count": null,
   "id": "753ac256-499e-46ba-bd5c-bafdda2f2a4a",
   "metadata": {},
   "outputs": [],
   "source": [
    "another_interpreter = tf.lite.Interpreter(model_content=tflite_model)\n",
    "another_interpreter.allocate_tensors()\n",
    "\n",
    "infer = another_interpreter.get_signature_runner(\"infer\")\n",
    "restore = another_interpreter.get_signature_runner(\"restore\")"
   ]
  },
  {
   "cell_type": "code",
   "execution_count": null,
   "id": "5229f483-23ea-41d6-b68e-fe4e3ca5f827",
   "metadata": {},
   "outputs": [],
   "source": [
    "logits_before = infer(x=train_images[:1])['logits'][0]\n",
    "\n",
    "# Restore the trained weights from /tmp/model.ckpt\n",
    "restore(checkpoint_path=np.array(\"/tmp/model.ckpt\", dtype=np.string_))\n",
    "\n",
    "logits_after = infer(x=train_images[:1])['logits'][0]\n",
    "\n",
    "compare_logits({'Before': logits_before, 'After': logits_after})"
   ]
  }
 ],
 "metadata": {
  "kernelspec": {
   "display_name": "Python 3 (ipykernel)",
   "language": "python",
   "name": "python3"
  },
  "language_info": {
   "codemirror_mode": {
    "name": "ipython",
    "version": 3
   },
   "file_extension": ".py",
   "mimetype": "text/x-python",
   "name": "python",
   "nbconvert_exporter": "python",
   "pygments_lexer": "ipython3",
   "version": "3.11.4"
  }
 },
 "nbformat": 4,
 "nbformat_minor": 5
}
